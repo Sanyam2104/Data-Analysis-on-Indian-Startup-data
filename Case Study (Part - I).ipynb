{
 "cells": [
  {
   "cell_type": "code",
   "execution_count": 8,
   "id": "0bb83f1e",
   "metadata": {},
   "outputs": [],
   "source": [
    "import numpy as np\n",
    "import pandas as pd\n",
    "import matplotlib.pyplot as plt"
   ]
  },
  {
   "cell_type": "markdown",
   "id": "00ef40f9",
   "metadata": {},
   "source": [
    "### Q1 Number of Fundings"
   ]
  },
  {
   "cell_type": "code",
   "execution_count": 1,
   "id": "4ba24505",
   "metadata": {},
   "outputs": [
    {
     "name": "stdout",
     "output_type": "stream",
     "text": [
      "2015 936\n",
      "2016 993\n",
      "2017 443\n"
     ]
    }
   ],
   "source": [
    "# Open and read data file as specified in the question\n",
    "# Print the required output in given format\n",
    "import pandas as pd\n",
    "import numpy as np\n",
    "\n",
    "\n",
    "df = pd.read_csv('startup_funding.csv',encoding='utf-8')\n",
    "df = df['Date'].str.split(\"/\")\n",
    "\n",
    "for i in range(df.shape[0]):\n",
    "    x = df[i]\n",
    "    len_x = len(x)\n",
    "    \n",
    "    if len_x == 3:\n",
    "        df[i] = x[2]\n",
    "    elif len_x == 2:\n",
    "        s = x[1].split('.')[1]\n",
    "        df[i] = s\n",
    "    elif len_x == 4:\n",
    "        df[i] =x[3]\n",
    "res = df.value_counts(sort=False)\n",
    "#For separating out the years and fund \n",
    "# year_fund = list(zip(res.index, res.values))\n",
    "# year_fund = np.array(year_fund,dtype='int')\n",
    "# year_fund = year_fund[year_fund[:,0].argsort()]\n",
    "# year = year_fund[:,0]\n",
    "# fund = year_fund[:,1]\n",
    "\n",
    "# plt.plot(year,fund, marker='o')\n",
    "# plt.xticks(year)\n",
    "# plt.show()\n",
    "x = dict(res) \n",
    "x = sorted(x.items())\n",
    "\n",
    "for i in x:\n",
    "    print(i[0], i[1])"
   ]
  },
  {
   "cell_type": "markdown",
   "id": "f764023e",
   "metadata": {},
   "source": [
    "### Q2 Top Indian Cities"
   ]
  },
  {
   "cell_type": "code",
   "execution_count": 4,
   "id": "3bc4bb2a",
   "metadata": {},
   "outputs": [
    {
     "data": {
      "text/plain": [
       "Bangalore     635\n",
       "Mumbai        449\n",
       "New delhi     385\n",
       "Gurgaon       241\n",
       "Pune           91\n",
       "Noida          79\n",
       "Hyderabad      77\n",
       "Chennai        67\n",
       "Ahmedabad      35\n",
       "Jaipur         25\n",
       "Kolkata        19\n",
       "Chandigarh     10\n",
       "Vadodara        9\n",
       "Indore          9\n",
       "Goa             8\n",
       "Singapore       5\n",
       "Kanpur          4\n",
       "Newdelhi        4\n",
       "Coimbatore      3\n",
       "Usa             2\n",
       "Siliguri        2\n",
       "Us              2\n",
       "Bhopal          2\n",
       "Agra            2\n",
       "Kochi           2\n",
       "Udupi           2\n",
       "Gwalior         2\n",
       "Trivandrum      2\n",
       "Seattle         1\n",
       "Udaipur         1\n",
       "India           1\n",
       "Nagpur          1\n",
       "New york        1\n",
       "Belgaum         1\n",
       "Boston          1\n",
       "Jodhpur         1\n",
       "Varanasi        1\n",
       "London          1\n",
       "Hubli           1\n",
       "Sfo             1\n",
       "Surat           1\n",
       "Lucknow         1\n",
       "Missourie       1\n",
       "Panaji          1\n",
       "Karur           1\n",
       "Kozhikode       1\n",
       "Kerala          1\n",
       "Dallas          1\n",
       "Name: city, dtype: int64"
      ]
     },
     "execution_count": 4,
     "metadata": {},
     "output_type": "execute_result"
    }
   ],
   "source": [
    "df = pd.read_csv('startup_funding.csv')\n",
    "df = df[df['CityLocation'].notna()]\n",
    "df['CityLocation'].replace('Delhi','NewDelhi',inplace=True)\n",
    "def convert(s):\n",
    "    return s.split(\"/\")[0].capitalize().strip()\n",
    "def remove_space(s):\n",
    "    return s.replace(' ','')\n",
    "df['city'] = df['CityLocation'].apply(convert)\n",
    "df['city'] = df['city'].apply(remove_space)\n",
    "res = df['city'].value_counts()\n",
    "\n",
    "plt.pie(res.values[:10], labels=res.index[:10])\n",
    "plt.show()"
   ]
  },
  {
   "cell_type": "markdown",
   "id": "494d03bb",
   "metadata": {},
   "source": [
    "### Q3 Funding amount"
   ]
  },
  {
   "cell_type": "code",
   "execution_count": 5,
   "id": "f1c60541",
   "metadata": {},
   "outputs": [
    {
     "name": "stdout",
     "output_type": "stream",
     "text": [
      "Bangalore 49.71\n",
      "New Delhi 16.63\n",
      "Mumbai 13.90\n",
      "Gurgaon 12.21\n",
      "Chennai 2.43\n",
      "Pune 2.16\n",
      "Hyderabad 1.15\n",
      "Noida 1.01\n",
      "Ahmedabad 0.58\n",
      "Jaipur 0.21\n"
     ]
    }
   ],
   "source": [
    "# Open and read data file as specified in the question\n",
    "# Print the required output in given format\n",
    "# Print the required output in given format\n",
    "import pandas as pd\n",
    "import numpy as np\n",
    "import matplotlib.pyplot as plt\n",
    "\n",
    "df = pd.read_csv('startup_funding.csv',encoding='utf-8')\n",
    "df = df[df['CityLocation'].notna()]\n",
    "df = df[df['AmountInUSD'].notna()]\n",
    "def separate(s):\n",
    "    return s.split('/')[0].strip()\n",
    "\n",
    "def amount(s):\n",
    "    return int(s.replace(',',''))\n",
    "\n",
    "df['CityLocation'] = df['CityLocation'].apply(separate)\n",
    "df['AmountInUSD'] = df['AmountInUSD'].apply(amount)\n",
    "df['CityLocation'].replace('Delhi', 'New Delhi',inplace=True)\n",
    "df['CityLocation'].replace('bangalore', 'Bangalore',inplace=True)\n",
    "df = df[['CityLocation','AmountInUSD']]\n",
    "g = df.groupby('CityLocation')['AmountInUSD'].sum()\n",
    "\n",
    "g = g[g[:].argsort()][::-1][:10]\n",
    "c = plt.pie(g.values, labels=g.index,autopct='%.2f')[1]\n",
    "p = plt.pie(g.values, labels=g.index,autopct='%.2f')[2]\n",
    "for i in range(10):\n",
    "    print(c[i].get_text(),p[i].get_text())"
   ]
  },
  {
   "cell_type": "markdown",
   "id": "a9711f00",
   "metadata": {},
   "source": [
    "### Q4 Investment Type"
   ]
  },
  {
   "cell_type": "code",
   "execution_count": null,
   "id": "c7dc8410",
   "metadata": {},
   "outputs": [],
   "source": [
    "# Open and read data file as specified in the question\n",
    "# Print the required output in given format\n",
    "import pandas as pd\n",
    "import numpy as np\n",
    "import matplotlib.pyplot as plt\n",
    "\n",
    "df = pd.read_csv('startup_funding.csv',encoding='utf-8')\n",
    "df = df[df['InvestmentType'].notna()]\n",
    "df = df[df['AmountInUSD'].notna()]\n",
    "\n",
    "def amount(s):\n",
    "    return int(s.replace(',',''))\n",
    "\n",
    "df['AmountInUSD'] = df['AmountInUSD'].apply(amount)\n",
    "df['InvestmentType'].replace('Crowd funding', 'Crowd Funding',inplace=True)\n",
    "df['InvestmentType'].replace('PrivateEquity', 'Private Equity',inplace=True)\n",
    "df['InvestmentType'].replace('SeedFunding', 'Seed Funding',inplace=True)\n",
    "\n",
    "df = df[['InvestmentType','AmountInUSD']]\n",
    "g = df.groupby('InvestmentType')['AmountInUSD'].sum()\n",
    "\n",
    "g = g[g[:].argsort()][::-1][:4]\n",
    "c = plt.pie(g.values, labels=g.index,autopct='%.2f')[1]\n",
    "p = plt.pie(g.values, labels=g.index,autopct='%.2f')[2]\n",
    "for i in range(4):\n",
    "    print(c[i].get_text(),p[i].get_text())"
   ]
  },
  {
   "cell_type": "markdown",
   "id": "3e7c0a50",
   "metadata": {},
   "source": [
    "### Q5 Top Industries"
   ]
  },
  {
   "cell_type": "code",
   "execution_count": null,
   "id": "e97a8969",
   "metadata": {},
   "outputs": [],
   "source": [
    "# Open and read data file as specified in the question\n",
    "# Print the required output in given format\n",
    "# Print the required output in given format\n",
    "import pandas as pd\n",
    "import numpy as np\n",
    "import matplotlib.pyplot as plt\n",
    "\n",
    "df = pd.read_csv('startup_funding.csv',encoding='utf-8')\n",
    "df = df[df['IndustryVertical'].notna()]\n",
    "df = df[df['AmountInUSD'].notna()]\n",
    "\n",
    "def amount(s):\n",
    "    return int(s.replace(',',''))\n",
    "\n",
    "df['AmountInUSD'] = df['AmountInUSD'].apply(amount)\n",
    "df['IndustryVertical'].replace('ECommerce', 'Ecommerce',inplace=True)\n",
    "df['IndustryVertical'].replace('E-Commerce', 'Ecommerce',inplace=True)\n",
    "df['IndustryVertical'].replace('ecommerce', 'Ecommerce',inplace=True)\n",
    "df['IndustryVertical'].replace('eCommerce', 'Ecommerce',inplace=True)\n",
    "\n",
    "\n",
    "\n",
    "df = df[['IndustryVertical','AmountInUSD']]\n",
    "g = df.groupby('IndustryVertical')['AmountInUSD'].sum()\n",
    "\n",
    "g = g[g[:].argsort()][::-1][:5]\n",
    "c = plt.pie(g.values, labels=g.index,autopct='%.2f')[1]\n",
    "p = plt.pie(g.values, labels=g.index,autopct='%.2f')[2]\n",
    "for i in range(5):\n",
    "    print(c[i].get_text(),round(float(p[i].get_text()),2))"
   ]
  },
  {
   "cell_type": "markdown",
   "id": "1722d726",
   "metadata": {},
   "source": [
    "### Q6 Top startups"
   ]
  },
  {
   "cell_type": "code",
   "execution_count": 6,
   "id": "086fcb64",
   "metadata": {},
   "outputs": [
    {
     "name": "stdout",
     "output_type": "stream",
     "text": [
      "Paytm\n",
      "Flipkart\n",
      "Ola\n",
      "Snapdeal\n",
      "Oyo\n"
     ]
    }
   ],
   "source": [
    "# Open and read data file as specified in the question\n",
    "# Print the required output in given format\n",
    "# Print the required output in given format\n",
    "import pandas as pd\n",
    "import numpy as np\n",
    "import matplotlib.pyplot as plt\n",
    "\n",
    "df = pd.read_csv('startup_funding.csv',encoding='utf-8')\n",
    "df = df[df['StartupName'].notna()]\n",
    "df = df[df['AmountInUSD'].notna()]\n",
    "\n",
    "def separate(s):\n",
    "    return s.split(' ')[0]\n",
    "\n",
    "def amount(s):\n",
    "    return int(s.replace(',',''))\n",
    "\n",
    "\n",
    "df['AmountInUSD'] = df['AmountInUSD'].apply(amount)\n",
    "df['StartupName'].replace('Flipkart.com', 'Flipkart',inplace=True)\n",
    "df['StartupName'].replace(to_replace =['OYO Rooms','Oyo Rooms', 'OyoRooms', 'Oyorooms'], value ='Oyo',inplace=True)\n",
    "df['StartupName'].replace(to_replace =['Ola Cabs','Olacabs'], value='Ola',inplace=True)\n",
    "df['StartupName'].replace('Paytm Marketplace', 'Paytm',inplace=True)\n",
    "\n",
    "\n",
    "df = df[['StartupName','AmountInUSD']]\n",
    "g = df.groupby('StartupName')['AmountInUSD'].sum()\n",
    "\n",
    "g = g[g[:].argsort()][::-1][:5]\n",
    "c = plt.pie(g.values, labels=g.index,autopct='%.2f')[1]\n",
    "p = plt.pie(g.values, labels=g.index,autopct='%.2f')[2]\n",
    "for i in range(5):\n",
    "    print(g.index[i])"
   ]
  },
  {
   "cell_type": "markdown",
   "id": "0e951a07",
   "metadata": {},
   "source": [
    "### Q7 Funding rounds"
   ]
  },
  {
   "cell_type": "code",
   "execution_count": null,
   "id": "154b774e",
   "metadata": {},
   "outputs": [],
   "source": [
    "# Open and read data file as specified in the question\n",
    "# Print the required output in given format\n",
    "# Print the required output in given format\n",
    "import pandas as pd\n",
    "import numpy as np\n",
    "import matplotlib.pyplot as plt\n",
    "\n",
    "df = pd.read_csv('startup_funding.csv',encoding='utf-8')\n",
    "df = df[df['StartupName'].notna()]\n",
    "\n",
    "df['StartupName'].replace('Flipkart.com', 'Flipkart',inplace=True)\n",
    "df['StartupName'].replace(to_replace =['OYO Rooms','Oyo Rooms', 'OyoRooms', 'Oyorooms'], value ='Oyo',inplace=True)\n",
    "df['StartupName'].replace(to_replace =['Ola Cabs','Olacabs'], value='Ola',inplace=True)\n",
    "df['StartupName'].replace('Paytm Marketplace', 'Paytm',inplace=True)\n",
    "\n",
    "\n",
    "df = df['StartupName']\n",
    "res = df.value_counts()\n",
    "for i in range(5):\n",
    "    print(res.index[i], res.values[i])\n"
   ]
  },
  {
   "cell_type": "markdown",
   "id": "e91c1525",
   "metadata": {},
   "source": [
    "### Q8 Top Investor"
   ]
  },
  {
   "cell_type": "code",
   "execution_count": 4,
   "id": "f83e0a68",
   "metadata": {},
   "outputs": [
    {
     "name": "stdout",
     "output_type": "stream",
     "text": [
      "Sequoia Capital 64\n",
      "Accel Partners 53\n",
      "Kalaari Capital 44\n",
      "SAIF Partners 41\n",
      "Indian Angel Network 40\n"
     ]
    }
   ],
   "source": [
    "import pandas as pd\n",
    "import numpy as np\n",
    "import matplotlib.pyplot as plt\n",
    "import re\n",
    "\n",
    "df = pd.read_csv('startup_funding.csv',encoding='utf-8')\n",
    "df = df[df['InvestorsName'].notna()]\n",
    "\n",
    "#removing undisclosed names\n",
    "remove_value= ['Undisclosed Investors','Undisclosed investors','undisclosed investor', 'undisclosed investors','undisclosed private investors']\n",
    "df = df[df['InvestorsName'].isin(remove_value) == False]\n",
    "\n",
    "#separtaing out multiple names in one startups\n",
    "def separate(s):\n",
    "    return s.strip().split(',')\n",
    "\n",
    "\n",
    "df['InvestorsName'] = df['InvestorsName'].apply(separate)\n",
    "\n",
    "n = np.array(df['InvestorsName'])\n",
    "flat_list = [item.strip() for sublist in n for item in sublist]\n",
    "\n",
    "df1 = pd.Series(flat_list)\n",
    "\n",
    "#removing others name from list\n",
    "df1 = df1[df1 != '']\n",
    "res = df1.value_counts()\n",
    "\n",
    "# investor_name = res.index[:5]\n",
    "# no_of_investments = res.values[:5]\n",
    "\n",
    "# for i in range(5):\n",
    "#     print(investor_name[i], no_of_investments[i])\n",
    "\n",
    "investor_name = res.index\n",
    "no_of_investments = res.values\n",
    "\n",
    "for i in range(5):\n",
    "    print(investor_name[i], no_of_investments[i])"
   ]
  },
  {
   "cell_type": "code",
   "execution_count": null,
   "id": "04fce1fb",
   "metadata": {},
   "outputs": [],
   "source": []
  }
 ],
 "metadata": {
  "kernelspec": {
   "display_name": "Python 3",
   "language": "python",
   "name": "python3"
  },
  "language_info": {
   "codemirror_mode": {
    "name": "ipython",
    "version": 3
   },
   "file_extension": ".py",
   "mimetype": "text/x-python",
   "name": "python",
   "nbconvert_exporter": "python",
   "pygments_lexer": "ipython3",
   "version": "3.8.3"
  }
 },
 "nbformat": 4,
 "nbformat_minor": 5
}
