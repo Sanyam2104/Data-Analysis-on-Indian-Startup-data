{
 "cells": [
  {
   "cell_type": "code",
   "execution_count": 1,
   "id": "4c9c5b05",
   "metadata": {},
   "outputs": [],
   "source": [
    "import numpy as np\n",
    "import pandas as pd\n",
    "import matplotlib.pyplot as plt"
   ]
  },
  {
   "cell_type": "markdown",
   "id": "0645769e",
   "metadata": {},
   "source": [
    "### Ist REQUIREMENT "
   ]
  },
  {
   "cell_type": "markdown",
   "id": "92c26763",
   "metadata": {},
   "source": [
    "Your Friend has developed the Product and he wants to establish the product startup and he is searching for a perfect location where getting the investment has a high chance. But due to its financial restriction, he can choose only between three locations -  Bangalore, Mumbai, and NCR. As a friend, you want to help your friend deciding the location. NCR include Gurgaon, Noida and New Delhi. Find the location where the most number of funding is done. That means, find the location where startups has received funding maximum number of times. Plot the bar graph between location and number of funding. Take city name \"Delhi\" as \"New Delhi\". Check the case-sensitiveness of cities also. That means, at some place instead of \"Bangalore\", \"bangalore\" is given. Take city name as \"Bangalore\". For few startups multiple locations are given, one Indian and one Foreign. Consider the startup if any one of the city lies in given locations."
   ]
  },
  {
   "cell_type": "code",
   "execution_count": 36,
   "id": "9742ddd9",
   "metadata": {},
   "outputs": [
    {
     "data": {
      "image/png": "[encoded data removed]",
      "text/plain": [
       "<Figure size 640x480 with 1 Axes>"
      ]
     },
     "metadata": {},
     "output_type": "display_data"
    },
    {
     "data": {
      "text/html": [
       "<div>\n",
       "<style scoped>\n",
       "    .dataframe tbody tr th:only-of-type {\n",
       "        vertical-align: middle;\n",
       "    }\n",
       "\n",
       "    .dataframe tbody tr th {\n",
       "        vertical-align: top;\n",
       "    }\n",
       "\n",
       "    .dataframe thead th {\n",
       "        text-align: right;\n",
       "    }\n",
       "</style>\n",
       "<table border=\"1\" class=\"dataframe\">\n",
       "  <thead>\n",
       "    <tr style=\"text-align: right;\">\n",
       "      <th></th>\n",
       "      <th>city_name</th>\n",
       "      <th>no_of_funding</th>\n",
       "    </tr>\n",
       "  </thead>\n",
       "  <tbody>\n",
       "    <tr>\n",
       "      <th>0</th>\n",
       "      <td>Noida</td>\n",
       "      <td>79</td>\n",
       "    </tr>\n",
       "    <tr>\n",
       "      <th>1</th>\n",
       "      <td>Gurgaon</td>\n",
       "      <td>241</td>\n",
       "    </tr>\n",
       "    <tr>\n",
       "      <th>2</th>\n",
       "      <td>New Delhi</td>\n",
       "      <td>389</td>\n",
       "    </tr>\n",
       "    <tr>\n",
       "      <th>3</th>\n",
       "      <td>Mumbai</td>\n",
       "      <td>449</td>\n",
       "    </tr>\n",
       "    <tr>\n",
       "      <th>4</th>\n",
       "      <td>Bangalore</td>\n",
       "      <td>636</td>\n",
       "    </tr>\n",
       "  </tbody>\n",
       "</table>\n",
       "</div>"
      ],
      "text/plain": [
       "   city_name  no_of_funding\n",
       "0      Noida             79\n",
       "1    Gurgaon            241\n",
       "2  New Delhi            389\n",
       "3     Mumbai            449\n",
       "4  Bangalore            636"
      ]
     },
     "execution_count": 36,
     "metadata": {},
     "output_type": "execute_result"
    }
   ],
   "source": [
    "#Importing dataset\n",
    "dataset = 'startup_funding.csv'\n",
    "df = pd.read_csv(dataset)\n",
    "\n",
    "location =  ['Bangalore', 'Mumbai', 'Gurgaon', 'Noida', 'New Delhi']\n",
    "\n",
    "df = df[df['CityLocation'].notna()] #removing NaN values in CityLocation column\n",
    "\n",
    "#taking care of case sensitive and correct location name\n",
    "df['CityLocation'].replace(to_replace=['New delhi', 'Delhi'],value='New Delhi',inplace=True)\n",
    "df['CityLocation'].replace(to_replace=[\"SFO / Bangalor\",\"Seattle / Bangalore\"],value=\"Bangalore\", inplace = True)\n",
    "\n",
    "#Capitalizing every city name and removing whitepsaces from them\n",
    "def convert(s):\n",
    "    return s.split(\"/\")[0].title().strip()\n",
    "\n",
    "\n",
    "df['city'] = df['CityLocation'].apply(convert)\n",
    "\n",
    "#Filtering the city location based on the provided location\n",
    "df = df[df['city'].isin(location)]\n",
    "\n",
    "# getting the total counts of each city or most number of funding is done in which city\n",
    "res = df['city'].value_counts(ascending=True)\n",
    "\n",
    "#storing city name and its counts in different lists\n",
    "city_name = list(res.keys())\n",
    "no_of_funding = list(res.values)\n",
    "\n",
    "#plotting the bar graph between location and number of funding\n",
    "plt.bar(city_name, no_of_funding, width=0.5)\n",
    "plt.xlabel('City',labelpad=10)\n",
    "plt.ylabel('Number of funding',labelpad=10)\n",
    "plt.title(\"Cities with number of funding\")\n",
    "plt.grid()\n",
    "plt.show()\n",
    "\n",
    "result_data = list(zip(city_name, no_of_funding))\n",
    "final_df = pd.DataFrame(result_data, columns=['city_name','no_of_funding'])\n",
    "final_df"
   ]
  },
  {
   "cell_type": "code",
   "execution_count": null,
   "id": "f8913567",
   "metadata": {},
   "outputs": [],
   "source": []
  }
 ],
 "metadata": {
  "kernelspec": {
   "display_name": "Python 3",
   "language": "python",
   "name": "python3"
  },
  "language_info": {
   "codemirror_mode": {
    "name": "ipython",
    "version": 3
   },
   "file_extension": ".py",
   "mimetype": "text/x-python",
   "name": "python",
   "nbconvert_exporter": "python",
   "pygments_lexer": "ipython3",
   "version": "3.8.3"
  }
 },
 "nbformat": 4,
 "nbformat_minor": 5
}
